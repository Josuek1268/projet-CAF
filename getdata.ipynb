{
 "cells": [
  {
   "cell_type": "code",
   "execution_count": 1,
   "id": "7b94ef3c-c569-4e8c-8104-409698b9ce8b",
   "metadata": {},
   "outputs": [],
   "source": [
    "from selenium import webdriver\n",
    "from selenium.webdriver.chrome.service import Service as ChromeService\n",
    "from webdriver_manager.chrome import ChromeDriverManager\n",
    "from selenium.webdriver.common.keys import Keys\n",
    "from selenium.webdriver.common.by import By\n",
    "from selenium.webdriver.support.ui import WebDriverWait\n",
    "from selenium.webdriver.support import expected_conditions as EC\n",
    "from selenium import webdriver\n",
    "from bs4 import BeautifulSoup \n",
    "import re \n",
    "import time\n",
    "import pandas as pd\n",
    "import psycopg2\n",
    "from datetime import datetime, timedelta\n",
    "from dateutil.relativedelta import relativedelta\n",
    "from dotenv import load_dotenv\n",
    "import os"
   ]
  },
  {
   "cell_type": "code",
   "execution_count": 2,
   "id": "cf3c7931-2f02-4140-9753-d38e4d03b34d",
   "metadata": {},
   "outputs": [],
   "source": [
    "load_dotenv()\n",
    "db_host = os.getenv('DB_HOST')\n",
    "db_name = os.getenv('DB_NAME')\n",
    "db_user = os.getenv('DB_USER')\n",
    "db_password = os.getenv('DB_PASSWORD')\n",
    "db_port = os.getenv('DB_PORT')\n",
    "username = os.getenv('IN_USERNAME')\n",
    "mypassword = os.getenv('PASSWORD')\n",
    "keywords = os.getenv('MOTS_CLES').split(',')"
   ]
  },
  {
   "cell_type": "code",
   "execution_count": 3,
   "id": "a04be85f-1265-46e1-9797-f32cab918ac8",
   "metadata": {},
   "outputs": [
    {
     "name": "stdout",
     "output_type": "stream",
     "text": [
      "Connexion réussie à la base de données\n"
     ]
    }
   ],
   "source": [
    "try:\n",
    "    connection = psycopg2.connect(\n",
    "        host=db_host,\n",
    "        database=db_name,\n",
    "        user=db_user,\n",
    "        port=db_port,\n",
    "        password=db_password\n",
    "    )\n",
    "    cursor = connection.cursor()\n",
    "    \n",
    "    sql ='''CREATE TABLE IF NOT EXISTS INPOSTS(\n",
    "    id SERIAL PRIMARY KEY,\n",
    "    author VARCHAR(255),\n",
    "    content TEXT,\n",
    "    likes_count INT DEFAULT 0,\n",
    "    comments_count INT DEFAULT 0,\n",
    "    shares_count INT DEFAULT 0,\n",
    "    post_date DATE,\n",
    "    keywords VARCHAR(255),\n",
    "    created_at TIMESTAMP DEFAULT CURRENT_TIMESTAMP )'''\n",
    "    cursor.execute(sql)\n",
    "    connection.commit()\n",
    "    cursor.close()\n",
    "    print(\"Connexion réussie à la base de données\")\n",
    "    \n",
    "except Exception as e:\n",
    "    print(f\"Erreur lors de la connexion à la base de données : {e}\")\n",
    "    raise"
   ]
  },
  {
   "cell_type": "code",
   "execution_count": 4,
   "id": "ca0b1863-55b1-4678-b54a-99ccf6c31772",
   "metadata": {},
   "outputs": [],
   "source": [
    "driver = webdriver.Chrome(service=ChromeService(ChromeDriverManager().install()))"
   ]
  },
  {
   "cell_type": "code",
   "execution_count": 5,
   "id": "7e4e65de-0780-4a83-b61e-d53a818fa4c0",
   "metadata": {},
   "outputs": [],
   "source": [
    "driver.get(\"https://www.linkedin.com/uas/login\")\n",
    "driver.maximize_window()\n",
    "time.sleep(3)"
   ]
  },
  {
   "cell_type": "code",
   "execution_count": 6,
   "id": "5c31866e-6b73-44a6-a7e6-762774be5ff3",
   "metadata": {},
   "outputs": [],
   "source": [
    "email=driver.find_element(By.ID,\"username\")\n",
    "email.send_keys(username)\n",
    "password=driver.find_element(By.ID,\"password\")\n",
    "password.send_keys(mypassword)\n",
    "time.sleep(3)\n",
    "password.send_keys(Keys.RETURN)"
   ]
  },
  {
   "cell_type": "markdown",
   "id": "710d738e-48a5-44ba-a5f3-10256ded63c7",
   "metadata": {},
   "source": [
    "<h1>Il faut maintenant confirmer la connexion soit directement dans l'application mobile ou entrer sms dans le champ suivant</h1>"
   ]
  },
  {
   "cell_type": "markdown",
   "id": "9a1b94d7-caf8-4836-a841-58d159bf796f",
   "metadata": {},
   "source": [
    "<h2> Entrer sms si vous voulez verifier la connexion par sms ou appuyer entrer si vous l'avez faites sur un votre telephone</h2>"
   ]
  },
  {
   "cell_type": "code",
   "execution_count": 7,
   "id": "d2e9570f-5bdf-45e3-9add-8330a74b0b5b",
   "metadata": {},
   "outputs": [
    {
     "name": "stdin",
     "output_type": "stream",
     "text": [
      "entrez sms si vous voulez verifier par sms sinon appuyer entrez si vous avez déjà confirmer \n"
     ]
    }
   ],
   "source": [
    "confirmation = input(\"entrez sms si vous voulez verifier par sms sinon appuyer entrez si vous avez déjà confirmer\") or \"0\""
   ]
  },
  {
   "cell_type": "code",
   "execution_count": 8,
   "id": "7a666010-b355-4339-9267-debb8ca64dc4",
   "metadata": {},
   "outputs": [],
   "source": [
    "if confirmation == 'sms':\n",
    "    code_validation = int(input (\"Veuillez entrer le code recu par sms\").strip())\n",
    "    input_validation = driver.find_element(By.ID,\"input__phone_verification_pin\")\n",
    "    input_validation.send_keys(code_validation)\n",
    "    submit = driver.find_element(By.ID,\"two-step-submit-button\")\n",
    "    submit.click()\n",
    "    time.sleep(5)"
   ]
  },
  {
   "cell_type": "code",
   "execution_count": 9,
   "id": "35a0bcd6-9720-4176-8bf0-76679fce29b9",
   "metadata": {},
   "outputs": [],
   "source": [
    "def clean_text(text):\n",
    "    emoji_pattern = re.compile(\n",
    "        \"[\"               \n",
    "        u\"\\U0001F600-\\U0001F64F\"  \n",
    "        u\"\\U0001F300-\\U0001F5FF\"  \n",
    "        u\"\\U0001F680-\\U0001F6FF\" \n",
    "        u\"\\U0001F700-\\U0001F77F\"  \n",
    "        u\"\\U0001F780-\\U0001F7FF\"  \n",
    "        u\"\\U0001F800-\\U0001F8FF\"  \n",
    "        u\"\\U0001F900-\\U0001F9FF\"  \n",
    "        u\"\\U0001FA00-\\U0001FA6F\"  \n",
    "        u\"\\U0001FA70-\\U0001FAFF\"  \n",
    "        u\"\\U00002700-\\U000027BF\"  \n",
    "        u\"\\U00002600-\\U000026FF\"  \n",
    "        \"]+\", flags=re.UNICODE\n",
    "    )\n",
    "    \n",
    "    text = emoji_pattern.sub(r'', text)\n",
    "    text = re.sub(r'http\\S+|www\\S+|https\\S+', '', text, flags=re.MULTILINE)\n",
    "    text = re.sub(r'@\\w+', '', text)\n",
    "    text = re.sub(r'#\\w+', '', text)\n",
    "    text = re.sub(r'[^\\w\\s]', '', text)\n",
    "    return text"
   ]
  },
  {
   "cell_type": "code",
   "execution_count": null,
   "id": "b4d20d24-6e0f-4adf-886c-a826642285f4",
   "metadata": {},
   "outputs": [
    {
     "name": "stdout",
     "output_type": "stream",
     "text": [
      "Ce post existe déjà\n",
      "Post ajouté: CABINET - IA  AIUNE COMBINAISON FORMIDABLE POUR LA GESTION OPTIMALE DES RISQUES - 2023-12-18 \n",
      "\n",
      "Post ajouté: CABINET - Audit interne et Intelligence artificielleLintégration de lintelligence artificielle IA dans laudit interne est de plus en plus répandue et elle offre de nombreuses opportunités pour améliorer lefficacité la précision et la valeur de lauditVoici comment lIA peut être utilisée dans le domaine de laudit interne Analyse des donnéesLIA peut être utilisée pour automatiser lanalyse des données financières opérationnelles et transactionnelles ce qui permet de repérer plus rapidement les anomalies les incohérences et les fraudes potentiellesDétection de la fraudeLes algorithmes dIA peuvent être formés pour identifier les schémas de fraude en analysant de grandes quantités de données Ils peuvent également surveiller en continu les transactions pour détecter les activités frauduleuses en temps réelAnalyse des risquesLIA peut aider à évaluer les risques en analysant les données historiques et en identifiant les tendances et les modèles qui pourraient indiquer des risques potentiels pour lentrepriseAutomatisation des tâches répétitivesLes tâches manuelles et répétitives telles que la collecte de données la saisie comptable et la préparation de rapports peuvent être automatisées grâce à lIA ce qui permet aux auditeurs internes de se concentrer sur des tâches plus analytiques et à valeur ajoutéeAmélioration de la planification de lauditLIA peut analyser les données historiques des audits précédents pour aider à planifier de manière plus efficace les futures missions daudit en identifiant les domaines à haut risque et en suggérant des stratégies daudit appropriéesSurveillance continueLes systèmes dIA peuvent surveiller en continu les transactions et les activités de lentreprise alertant les auditeurs internes en cas de problèmes potentielsAnalyse des documentsLIA peut être utilisée pour analyser de grandes quantités de documents tels que contrats factures et rapports financiers afin didentifier des informations pertinentes pour lauditPrévision et modélisationLes modèles dIA peuvent être utilisés pour prévoir les performances financières futures de lentreprise ce qui peut être utile pour laudit interne dans la planification des auditsCependant il est important de noter que ladoption de lIA dans laudit interne pose également des défis notamment en matière de confidentialité des donnéesde qualité des donnéesdinterprétation des résultats et de formation des auditeurs internes à lutilisation de ces technologiesDe plus lIA ne peut pas remplacer complètement le jugement humain dans laudit mais elle peut considérablement améliorer les processus et les résultats de laudit interne lorsquelle est utilisée de manière appropriéeDans tous les cas nous devons adapter nos pratiques à lévolution de notre ère sinon nous allons disparaitreREADY TO RECEIVE YOUR COMMENTS AND QUESTIONShashtag - 2024-07-18 \n",
      "\n",
      "Post ajouté: MicrosoftMicrosoft - Comment tirer pleinement parti de cette nouvelle ère de lhashtag tout en garantissant la confidentialité de vos données la sécurité de votre infrastructure et la conformité avec le cadre règlementaire et juridique Rejoignez nos experts pour mieux comprendre les enjeux et opportunités de lIA générative en matière de gestion des risques et innover en toute confianceJe minscris  - 2023-11-18 \n",
      "\n",
      "Post ajouté: data354data354 - Ce vendredi 21 juin 2024 notre PDGFabrice Zapfack a pris la parole aux 5èmes Rencontres Africaines du Risk Management RARM_Abidjan24 sur le thème  Enjeux et défis des assurances face aux évolutions technologiques Sécurité des données Big data Objets connectés et IA Fabrice a expliqué comment lintelligence artificielle IA peut révolutionner le secteur des assurances en personnalisant les tarifs et en optimisant la gestion des sinistres tout en abordant les défis éthiques et légaux notamment en matière de consentement et de transparence Il a également souligné limportance du Big Data pour améliorer les produits et services des compagnies dassurance et discuté des mesures essentielles pour protéger les données sensibles contre les menaces cybernétiques telles que la sensibilisation des employés et linvestissement dans des outils de sécurité avancésMerci auRIMRAE  Réseau Ivoirien de Management des Risques et Assurances dEntrepriseet à tous les participants pour cette riche discussion Mathieu NKATTAOlivier CANUELGaël Phashtag - 2023-11-18 \n",
      "\n",
      "Ce post existe déjà\n",
      "Ce post existe déjà\n"
     ]
    }
   ],
   "source": [
    "while True:  \n",
    "    for word in keywords:\n",
    "        authors, contents, dates, likes, shares, comments = [], [], [], [], [], []\n",
    "        search_input = driver.find_element(By.CLASS_NAME, \"search-global-typeahead__input\")\n",
    "        search_input.clear()\n",
    "        search_input.send_keys(word)\n",
    "        search_input.send_keys(Keys.RETURN)\n",
    "        time.sleep(3)\n",
    "        \n",
    "        try:\n",
    "            see_all_posts = driver.find_element(By.LINK_TEXT, \"Voir tous les résultats de posts\")\n",
    "            see_all_posts.click()\n",
    "            time.sleep(2)\n",
    "        except:\n",
    "            pass\n",
    "            \n",
    "        start = time.time()\n",
    "        now = datetime.now()\n",
    "        lastHeight = driver.execute_script(\"return document.body.scrollHeight\")\n",
    "        \n",
    "        while True:\n",
    "            see_more_elements = driver.find_elements(By.XPATH, \"//span[text()='… plus']\")\n",
    "            for element in see_more_elements:\n",
    "                try:\n",
    "                    element.click()\n",
    "                    time.sleep(1)\n",
    "                except:\n",
    "                    pass\n",
    "            \n",
    "            driver.execute_script(\"window.scrollTo(0, document.body.scrollHeight);\")\n",
    "            time.sleep(7)  \n",
    "            newHeight = driver.execute_script(\"return document.body.scrollHeight\")\n",
    "        \n",
    "            if newHeight == lastHeight:\n",
    "                break\n",
    "            lastHeight = newHeight\n",
    "            \n",
    "            if round(time.time() - start) > 300:\n",
    "                break\n",
    "        \n",
    "        result = driver.page_source\n",
    "        soup = BeautifulSoup(result.encode(\"utf-8\"), \"html.parser\")\n",
    "        \n",
    "        authors_span = soup.find_all('span', class_='update-components-actor__name')\n",
    "        contents_span = soup.find_all('span', class_='break-words tvm-parent-container')\n",
    "        dates_span = soup.find_all('span', class_='update-components-actor__sub-description')\n",
    "        likes_span= soup.find_all('span', class_='social-details-social-counts__reactions-count')\n",
    "        comments_span = soup.find_all('span', string=re.compile('commentaire|commentaires'))\n",
    "        shares_span =soup.find_all('span', class_='social-details-social-counts__item--truncate-text')\n",
    "        \n",
    "        for author ,content, like ,share, comment in zip (authors_span ,contents_span ,likes_span ,shares_span ,comments_span ):\n",
    "            item1 = author.get_text(strip=True).split()[0]\n",
    "            item2 = clean_text(content.get_text(strip=True))\n",
    "            item3 = like.get_text(strip=True)\n",
    "            item4 = share.get_text(strip=True).split()[0]\n",
    "            item5 = comment.get_text(strip=True).split()[0]\n",
    "            authors.append(item1)\n",
    "            contents.append(item2)\n",
    "            likes.append(item3)\n",
    "            shares.append(item4)\n",
    "            comments.append(item5)\n",
    "\n",
    "        \n",
    "        for date in dates_span:\n",
    "            item = date.get_text().strip()\n",
    "        \n",
    "            if 'il y a' not in item:\n",
    "                if 'j' in item:\n",
    "                    days = int(re.search(r'(\\d+)\\s*j', item).group(1))\n",
    "                    new_date = (now - timedelta(days=days)).strftime('%Y-%m-%d')\n",
    "                    dates.append(new_date)\n",
    "        \n",
    "                elif 'h' in item:\n",
    "                    hours = int(re.search(r'(\\d+)\\s*h', item).group(1))\n",
    "                    new_date = (now - timedelta(hours=hours)).strftime('%Y-%m-%d')\n",
    "                    dates.append(new_date)\n",
    "        \n",
    "                elif 'sem.' in item:\n",
    "                    weeks = int(re.search(r'(\\d+)\\s*sem\\.', item).group(1))\n",
    "                    new_date = (now - timedelta(weeks=weeks)).strftime('%Y-%m-%d')\n",
    "                    dates.append(new_date)\n",
    "        \n",
    "                elif 'mois' in item:\n",
    "                    months = int(re.search(r'(\\d+)\\s*mois', item).group(1))\n",
    "                    new_date = (now - relativedelta(months=months)).strftime('%Y-%m-%d')\n",
    "                    dates.append(new_date)\n",
    "                    \n",
    "        cursor = connection.cursor()\n",
    "        \n",
    "        for author, content, like, share, comment ,post_date in zip (authors , contents ,likes ,shares,comments, dates):\n",
    "            sql_check = '''SELECT COUNT(*) FROM INPOSTS WHERE author = %s AND content = %s AND post_date = %s'''\n",
    "            sql_insert = '''INSERT INTO INPOSTS (author, content ,likes_count, shares_count,comments_count, post_date, keywords) \n",
    "                            VALUES (%s, %s, %s, %s, %s, %s, %s)'''\n",
    "            cursor.execute(sql_check, (author, content, post_date))\n",
    "            exists = cursor.fetchone()[0]\n",
    "            if exists == 0:  \n",
    "                try:\n",
    "                    cursor.execute(sql_insert, (author, content, like, share, comment, post_date, word))\n",
    "                    connection.commit()\n",
    "                    print(f\"Post ajouté: {author} - {content} - {post_date} -{word} \\n\")\n",
    "                except Exception as e:\n",
    "                    print(f\"Erreur lors de l'insertion du post: {e}\")\n",
    "                    connection.rollback()\n",
    "\n",
    "            else:\n",
    "                print(\"Ce post existe déjà\")\n",
    "\n",
    "        cursor.close()\n",
    "        time.sleep(10)"
   ]
  },
  {
   "cell_type": "code",
   "execution_count": null,
   "id": "5d4976d3-acc4-42c6-bee9-b3a7f844c7ec",
   "metadata": {},
   "outputs": [],
   "source": []
  }
 ],
 "metadata": {
  "kernelspec": {
   "display_name": "Python 3 (ipykernel)",
   "language": "python",
   "name": "python3"
  },
  "language_info": {
   "codemirror_mode": {
    "name": "ipython",
    "version": 3
   },
   "file_extension": ".py",
   "mimetype": "text/x-python",
   "name": "python",
   "nbconvert_exporter": "python",
   "pygments_lexer": "ipython3",
   "version": "3.12.0"
  }
 },
 "nbformat": 4,
 "nbformat_minor": 5
}
